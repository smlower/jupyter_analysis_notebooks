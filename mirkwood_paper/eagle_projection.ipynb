{
 "cells": [
  {
   "cell_type": "code",
   "execution_count": 128,
   "metadata": {},
   "outputs": [],
   "source": [
    "import numpy as np\n",
    "import yt\n",
    "import matplotlib.pyplot as plt"
   ]
  },
  {
   "cell_type": "code",
   "execution_count": 2,
   "metadata": {},
   "outputs": [
    {
     "data": {
      "text/plain": [
       "'4.0.dev0'"
      ]
     },
     "execution_count": 2,
     "metadata": {},
     "output_type": "execute_result"
    }
   ],
   "source": [
    "yt.__version__"
   ]
  },
  {
   "cell_type": "code",
   "execution_count": 148,
   "metadata": {},
   "outputs": [
    {
     "name": "stderr",
     "output_type": "stream",
     "text": [
      "yt : [INFO     ] 2020-06-04 10:58:33,864 Calculating time from 1.000e+00 to be 4.356e+17 seconds\n",
      "yt : [INFO     ] 2020-06-04 10:58:34,014 Parameters: current_time              = 4.355810528213311e+17 s\n",
      "yt : [INFO     ] 2020-06-04 10:58:34,015 Parameters: domain_dimensions         = [1 1 1]\n",
      "yt : [INFO     ] 2020-06-04 10:58:34,015 Parameters: domain_left_edge          = [0. 0. 0.]\n",
      "yt : [INFO     ] 2020-06-04 10:58:34,016 Parameters: domain_right_edge         = [75000. 75000. 75000.]\n",
      "yt : [INFO     ] 2020-06-04 10:58:34,017 Parameters: cosmological_simulation   = 1\n",
      "yt : [INFO     ] 2020-06-04 10:58:34,019 Parameters: current_redshift          = 2.220446049250313e-16\n",
      "yt : [INFO     ] 2020-06-04 10:58:34,020 Parameters: omega_lambda              = 0.6911\n",
      "yt : [INFO     ] 2020-06-04 10:58:34,027 Parameters: omega_matter              = 0.3089\n",
      "yt : [INFO     ] 2020-06-04 10:58:34,030 Parameters: omega_radiation           = 0.0\n",
      "yt : [INFO     ] 2020-06-04 10:58:34,032 Parameters: hubble_constant           = 0.6774\n",
      "yt : [INFO     ] 2020-06-04 10:58:34,819 Allocating for 3.685e+04 particles\n"
     ]
    }
   ],
   "source": [
    "snapshot = '/Volumes/orange/narayanan/s.lower/simba/filtered_snapshots/snap305/galaxy_201.hdf5'\n",
    "#pos_file = '/Volumes/orange/narayanan/s.lower/eagle/eagle_snap28_pos.npz'\n",
    "\n",
    "ds = yt.load('/Volumes//orange/narayanan/s.lower/TNG/filtered_snapshots/snap99/galaxy_500.hdf5')\n",
    "ad = ds.all_data()"
   ]
  },
  {
   "cell_type": "code",
   "execution_count": 106,
   "metadata": {},
   "outputs": [
    {
     "data": {
      "text/plain": [
       "unyt_array([  960.63598214, 26260.99762776, 18700.6872829 ], 'code_length')"
      ]
     },
     "execution_count": 106,
     "metadata": {},
     "output_type": "execute_result"
    }
   ],
   "source": [
    "star_coords[0]"
   ]
  },
  {
   "cell_type": "code",
   "execution_count": 108,
   "metadata": {},
   "outputs": [
    {
     "data": {
      "text/plain": [
       "unyt_array([  263.56189959, 27007.40721438, 16437.45303444], 'code_length')"
      ]
     },
     "execution_count": 108,
     "metadata": {},
     "output_type": "execute_result"
    }
   ],
   "source": [
    "gas_coords[0]"
   ]
  },
  {
   "cell_type": "code",
   "execution_count": 120,
   "metadata": {},
   "outputs": [
    {
     "data": {
      "text/plain": [
       "unyt_quantity(17050.97367717, 'code_length')"
      ]
     },
     "execution_count": 120,
     "metadata": {},
     "output_type": "execute_result"
    }
   ],
   "source": [
    "(np.sum(gas_masses * gas_coords[:,2]))  / np.sum(gas_masses)"
   ]
  },
  {
   "cell_type": "code",
   "execution_count": 101,
   "metadata": {},
   "outputs": [
    {
     "data": {
      "text/plain": [
       "unyt_quantity(14.76232855, 'kpc')"
      ]
     },
     "execution_count": 101,
     "metadata": {},
     "output_type": "execute_result"
    }
   ],
   "source": [
    "ds.quan(10., 'code_length').in_units('kpc')"
   ]
  },
  {
   "cell_type": "code",
   "execution_count": 114,
   "metadata": {},
   "outputs": [
    {
     "data": {
      "text/plain": [
       "unyt_quantity(17960.58558191, 'code_length')"
      ]
     },
     "execution_count": 114,
     "metadata": {},
     "output_type": "execute_result"
    }
   ],
   "source": [
    "(np.sum(star_masses * star_coords[:,2]))  / np.sum(star_masses)"
   ]
  },
  {
   "cell_type": "code",
   "execution_count": 149,
   "metadata": {},
   "outputs": [],
   "source": [
    "gas_masses = ad[('PartType0', 'Masses')]\n",
    "gas_coords = ad[('PartType0', 'Coordinates')]\n",
    "star_masses = ad[('PartType4', 'Masses')]\n",
    "star_coords = ad[('PartType4', 'Coordinates')]\n",
    "total_mass = np.sum(gas_masses) + np.sum(star_masses)\n",
    "\n",
    "x_pos = (np.sum(gas_masses * gas_coords[:,0]) + np.sum(star_masses * star_coords[:,0])) / total_mass\n",
    "y_pos = (np.sum(gas_masses * gas_coords[:,1]) + np.sum(star_masses * star_coords[:,1])) / total_mass\n",
    "z_pos = (np.sum(gas_masses * gas_coords[:,2]) + np.sum(star_masses * star_coords[:,2])) / total_mass"
   ]
  },
  {
   "cell_type": "code",
   "execution_count": 118,
   "metadata": {},
   "outputs": [
    {
     "data": {
      "text/plain": [
       "390088555314.28796"
      ]
     },
     "execution_count": 118,
     "metadata": {},
     "output_type": "execute_result"
    }
   ],
   "source": [
    "np.sum(star_masses.in_units('Msun').value)"
   ]
  },
  {
   "cell_type": "code",
   "execution_count": 150,
   "metadata": {},
   "outputs": [
    {
     "data": {
      "text/plain": [
       "(unyt_quantity(68674.41904226, 'code_length'),\n",
       " unyt_quantity(25145.74579086, 'code_length'),\n",
       " unyt_quantity(13566.51119504, 'code_length'))"
      ]
     },
     "execution_count": 150,
     "metadata": {},
     "output_type": "execute_result"
    }
   ],
   "source": [
    "x_pos, y_pos, z_pos"
   ]
  },
  {
   "cell_type": "code",
   "execution_count": 117,
   "metadata": {},
   "outputs": [
    {
     "data": {
      "text/plain": [
       "3007038471312.109"
      ]
     },
     "execution_count": 117,
     "metadata": {},
     "output_type": "execute_result"
    }
   ],
   "source": [
    "np.sum(gas_masses.in_units('Msun').value)"
   ]
  },
  {
   "cell_type": "code",
   "execution_count": 146,
   "metadata": {},
   "outputs": [],
   "source": [
    "temp_y = ds.quan(27368.5, 'code_length')\n",
    "temp_x = ds.quan(832., 'code_length')\n",
    "temp_z = ds.quan(17155.4, 'code_length')"
   ]
  },
  {
   "cell_type": "code",
   "execution_count": 138,
   "metadata": {},
   "outputs": [
    {
     "name": "stderr",
     "output_type": "stream",
     "text": [
      "yt : [INFO     ] 2020-06-04 10:44:46,525 xlim = 1128.225735 1328.225735\n",
      "yt : [INFO     ] 2020-06-04 10:44:46,527 ylim = 43254.744594 43454.744594\n",
      "yt : [INFO     ] 2020-06-04 10:44:46,531 xlim = 1128.225735 1328.225735\n",
      "yt : [INFO     ] 2020-06-04 10:44:46,532 ylim = 43254.744594 43454.744594\n",
      "yt : [INFO     ] 2020-06-04 10:44:46,535 Splatting (('PartType0', 'particle_mass')) onto a 800 by 800 mesh\n",
      "/Users/sidneylower/yt/yt/visualization/plot_window.py:907: RuntimeWarning: All-NaN axis encountered\n",
      "  elif np.nanmax(image) == np.nanmin(image):\n",
      "/Users/sidneylower/yt/yt/visualization/plot_window.py:910: RuntimeWarning: All-NaN axis encountered\n",
      "  elif np.nanmax(image) <= 0:\n",
      "yt : [WARNING  ] 2020-06-04 10:44:46,650 Plot image for field ('PartType0', 'particle_mass') is filled with NaNs.\n",
      "yt : [WARNING  ] 2020-06-04 10:44:46,650 Switching to linear colorbar scaling.\n",
      "yt : [INFO     ] 2020-06-04 10:44:46,928 Saving plot particle_plot_x_gal0.png\n"
     ]
    },
    {
     "data": {
      "text/plain": [
       "['particle_plot_x_gal0.png']"
      ]
     },
     "execution_count": 138,
     "metadata": {},
     "output_type": "execute_result"
    }
   ],
   "source": [
    "p = yt.ParticlePlot(ds, 'particle_position_x', 'particle_position_y', 'particle_mass', width=(200, 'kpc'), \n",
    "                    center=(temp_x.in_units('kpc'), temp_y.in_units('kpc'), temp_z.in_units('kpc')))\n",
    "p.save('particle_plot_x_gal'+str(0)+'.png')"
   ]
  },
  {
   "cell_type": "code",
   "execution_count": 147,
   "metadata": {},
   "outputs": [
    {
     "name": "stderr",
     "output_type": "stream",
     "text": [
      "yt : [INFO     ] 2020-06-04 10:50:31,606 xlim = 40152.278885 40652.278885\n",
      "yt : [INFO     ] 2020-06-04 10:50:31,608 ylim = 25075.365116 25575.365116\n",
      "yt : [INFO     ] 2020-06-04 10:50:31,611 xlim = 27199.150023 27537.849977\n",
      "yt : [INFO     ] 2020-06-04 10:50:31,614 ylim = 16986.050023 17324.749977\n",
      "yt : [INFO     ] 2020-06-04 10:50:31,626 Making a fixed resolution buffer of (('PartType0', 'density')) 800 by 800\n",
      "yt : [INFO     ] 2020-06-04 10:52:01,545 Saving plot proj.0.x_density.png\n"
     ]
    }
   ],
   "source": [
    "for i in [0]:\n",
    "    filename_x = 'proj.'+str(i)+'.x_density.png'\n",
    "    prj = yt.ProjectionPlot(ds,'x',('PartType0', 'density'),width=(500,'kpc'),\n",
    "                            center=(temp_x.in_units('kpc'), temp_y.in_units('kpc'), temp_z.in_units('kpc')))\n",
    "    prj.save(filename_x)\n",
    "\n",
    "\n",
    "    '''filename_y = 'proj.'+str(i)+'.y_tng.png'\n",
    "    prj = yt.ProjectionPlot(ds,'y',('PartType0', 'density'),width=(200,'kpc'),\n",
    "                            center=(x_pos.in_units('kpc'), y_pos.in_units('kpc'), z_pos.in_units('kpc')))\n",
    "    prj.save(filename_y)\n",
    "\n",
    "    filename_z = 'proj.'+str(i)+'.z_tng.png'\n",
    "    prj = yt.ProjectionPlot(ds,'z',('PartType0', 'density'),width=(200,'kpc'),\n",
    "                            center=(x_pos.in_units('kpc'), y_pos.in_units('kpc'), z_pos.in_units('kpc')))\n",
    "    prj.save(filename_z)'''"
   ]
  },
  {
   "cell_type": "code",
   "execution_count": 27,
   "metadata": {},
   "outputs": [],
   "source": [
    "ad = ds.all_data()"
   ]
  },
  {
   "cell_type": "code",
   "execution_count": 55,
   "metadata": {},
   "outputs": [
    {
     "data": {
      "text/plain": [
       "1497.2"
      ]
     },
     "execution_count": 55,
     "metadata": {},
     "output_type": "execute_result"
    }
   ],
   "source": [
    "3743 / 2.5"
   ]
  },
  {
   "cell_type": "code",
   "execution_count": 11,
   "metadata": {},
   "outputs": [
    {
     "data": {
      "text/plain": [
       "[('PartType0', 'AExpMaximumTemperature'),\n",
       " ('PartType0', 'Carbon'),\n",
       " ('PartType0', 'Coordinates'),\n",
       " ('PartType0', 'Density'),\n",
       " ('PartType0', 'Entropy'),\n",
       " ('PartType0', 'GroupNumber'),\n",
       " ('PartType0', 'Helium'),\n",
       " ('PartType0', 'HostHalo_TVir_Mass'),\n",
       " ('PartType0', 'Hydrogen'),\n",
       " ('PartType0', 'InternalEnergy'),\n",
       " ('PartType0', 'Iron'),\n",
       " ('PartType0', 'IronMassFracFromSNIa'),\n",
       " ('PartType0', 'Magnesium'),\n",
       " ('PartType0', 'Mass'),\n",
       " ('PartType0', 'MaximumTemperature'),\n",
       " ('PartType0', 'MetalMassFracFromAGB'),\n",
       " ('PartType0', 'MetalMassFracFromSNII'),\n",
       " ('PartType0', 'MetalMassFracFromSNIa'),\n",
       " ('PartType0', 'Metallicity'),\n",
       " ('PartType0', 'Neon'),\n",
       " ('PartType0', 'Nitrogen'),\n",
       " ('PartType0', 'OnEquationOfState'),\n",
       " ('PartType0', 'Oxygen'),\n",
       " ('PartType0', 'ParticleIDs'),\n",
       " ('PartType0', 'Silicon'),\n",
       " ('PartType0', 'SmoothedIronMassFracFromSNIa'),\n",
       " ('PartType0', 'SmoothedMetallicity'),\n",
       " ('PartType0', 'SmoothingLength'),\n",
       " ('PartType0', 'StarFormationRate'),\n",
       " ('PartType0', 'SubGroupNumber'),\n",
       " ('PartType0', 'Temperature'),\n",
       " ('PartType0', 'TotalMassFromAGB'),\n",
       " ('PartType0', 'TotalMassFromSNII'),\n",
       " ('PartType0', 'TotalMassFromSNIa'),\n",
       " ('PartType0', 'Velocity'),\n",
       " ('PartType4', 'AExpMaximumTemperature'),\n",
       " ('PartType4', 'BirthDensity'),\n",
       " ('PartType4', 'Carbon'),\n",
       " ('PartType4', 'Coordinates'),\n",
       " ('PartType4', 'Feedback_EnergyFraction'),\n",
       " ('PartType4', 'GroupNumber'),\n",
       " ('PartType4', 'Helium'),\n",
       " ('PartType4', 'HostHalo_TVir'),\n",
       " ('PartType4', 'HostHalo_TVir_Mass'),\n",
       " ('PartType4', 'Hydrogen'),\n",
       " ('PartType4', 'InitialMass'),\n",
       " ('PartType4', 'Iron'),\n",
       " ('PartType4', 'IronMassFracFromSNIa'),\n",
       " ('PartType4', 'Magnesium'),\n",
       " ('PartType4', 'Mass'),\n",
       " ('PartType4', 'MaximumTemperature'),\n",
       " ('PartType4', 'MetalMassFracFromAGB'),\n",
       " ('PartType4', 'MetalMassFracFromSNII'),\n",
       " ('PartType4', 'MetalMassFracFromSNIa'),\n",
       " ('PartType4', 'Metallicity'),\n",
       " ('PartType4', 'Neon'),\n",
       " ('PartType4', 'Nitrogen'),\n",
       " ('PartType4', 'Oxygen'),\n",
       " ('PartType4', 'ParticleIDs'),\n",
       " ('PartType4', 'PreviousStellarEnrichment'),\n",
       " ('PartType4', 'Silicon'),\n",
       " ('PartType4', 'SmoothedIronMassFracFromSNIa'),\n",
       " ('PartType4', 'SmoothedMetallicity'),\n",
       " ('PartType4', 'SmoothingLength'),\n",
       " ('PartType4', 'StellarEnrichmentCounter'),\n",
       " ('PartType4', 'StellarFormationTime'),\n",
       " ('PartType4', 'SubGroupNumber'),\n",
       " ('PartType4', 'TotalMassFromAGB'),\n",
       " ('PartType4', 'TotalMassFromSNII'),\n",
       " ('PartType4', 'TotalMassFromSNIa'),\n",
       " ('PartType4', 'Velocity'),\n",
       " ('all', 'AExpMaximumTemperature'),\n",
       " ('all', 'Carbon'),\n",
       " ('all', 'Coordinates'),\n",
       " ('all', 'GroupNumber'),\n",
       " ('all', 'Helium'),\n",
       " ('all', 'HostHalo_TVir_Mass'),\n",
       " ('all', 'Hydrogen'),\n",
       " ('all', 'Iron'),\n",
       " ('all', 'IronMassFracFromSNIa'),\n",
       " ('all', 'Magnesium'),\n",
       " ('all', 'Mass'),\n",
       " ('all', 'MaximumTemperature'),\n",
       " ('all', 'MetalMassFracFromAGB'),\n",
       " ('all', 'MetalMassFracFromSNII'),\n",
       " ('all', 'MetalMassFracFromSNIa'),\n",
       " ('all', 'Metallicity'),\n",
       " ('all', 'Neon'),\n",
       " ('all', 'Nitrogen'),\n",
       " ('all', 'Oxygen'),\n",
       " ('all', 'ParticleIDs'),\n",
       " ('all', 'Silicon'),\n",
       " ('all', 'SmoothedIronMassFracFromSNIa'),\n",
       " ('all', 'SmoothedMetallicity'),\n",
       " ('all', 'SmoothingLength'),\n",
       " ('all', 'SubGroupNumber'),\n",
       " ('all', 'TotalMassFromAGB'),\n",
       " ('all', 'TotalMassFromSNII'),\n",
       " ('all', 'TotalMassFromSNIa'),\n",
       " ('all', 'Velocity')]"
      ]
     },
     "execution_count": 11,
     "metadata": {},
     "output_type": "execute_result"
    }
   ],
   "source": [
    "ds.field_list"
   ]
  },
  {
   "cell_type": "code",
   "execution_count": 18,
   "metadata": {},
   "outputs": [
    {
     "data": {
      "text/plain": [
       "600497123.0048859 Msun"
      ]
     },
     "execution_count": 18,
     "metadata": {},
     "output_type": "execute_result"
    }
   ],
   "source": [
    "np.sum(ad[('PartType0', 'Mass')].in_units('Msun'))"
   ]
  },
  {
   "cell_type": "code",
   "execution_count": 45,
   "metadata": {},
   "outputs": [
    {
     "data": {
      "text/plain": [
       "87766194.38036907"
      ]
     },
     "execution_count": 45,
     "metadata": {},
     "output_type": "execute_result"
    }
   ],
   "source": [
    "sum(ad[('PartType0', 'Mass')].in_units('Msun').value)"
   ]
  },
  {
   "cell_type": "code",
   "execution_count": 44,
   "metadata": {},
   "outputs": [
    {
     "data": {
      "text/plain": [
       "(array([ 3.,  7.,  4., 10.,  7.,  4.,  4.,  1.,  1.,  1.]),\n",
       " array([6.25923994, 6.27462837, 6.2900168 , 6.30540523, 6.32079366,\n",
       "        6.33618209, 6.35157052, 6.36695895, 6.38234738, 6.39773581,\n",
       "        6.41312424]),\n",
       " <a list of 10 Patch objects>)"
      ]
     },
     "execution_count": 44,
     "metadata": {},
     "output_type": "execute_result"
    },
    {
     "data": {
      "image/png": "[encoded data removed]",
      "text/plain": [
       "<Figure size 432x288 with 1 Axes>"
      ]
     },
     "metadata": {
      "needs_background": "light"
     },
     "output_type": "display_data"
    }
   ],
   "source": [
    "plt.hist(np.log10(ad[('PartType0', 'Mass')].in_units('Msun').value))"
   ]
  },
  {
   "cell_type": "code",
   "execution_count": 28,
   "metadata": {},
   "outputs": [
    {
     "data": {
      "text/plain": [
       "unyt_array([[ 9.26841657,  4.16451309, 25.61512755],\n",
       "            [ 9.26818946,  4.16195607, 25.61372505],\n",
       "            [ 9.27274052,  4.16639841, 25.61867972],\n",
       "            [ 9.27117114,  4.16694497, 25.62035826],\n",
       "            [ 9.27114962,  4.16794785, 25.61751896],\n",
       "            [ 9.27201567,  4.16792148, 25.61802774],\n",
       "            [ 9.2716928 ,  4.16731316, 25.61708226],\n",
       "            [ 9.27171282,  4.1682568 , 25.6174469 ],\n",
       "            [ 9.27165131,  4.1690025 , 25.61724437],\n",
       "            [ 9.27221026,  4.16894612, 25.6170453 ],\n",
       "            [ 9.27218111,  4.16896978, 25.61688219],\n",
       "            [ 9.27130615,  4.16878172, 25.6183588 ],\n",
       "            [ 9.27161019,  4.16819462, 25.61793952],\n",
       "            [ 9.27267058,  4.1687525 , 25.61725418],\n",
       "            [ 9.27272296,  4.16806078, 25.61779917],\n",
       "            [ 9.27274035,  4.16785914, 25.61875331],\n",
       "            [ 9.27254171,  4.16804518, 25.61821834],\n",
       "            [ 9.27233308,  4.16724937, 25.61924011],\n",
       "            [ 9.26998224,  4.16938532, 25.6172767 ],\n",
       "            [ 9.27000381,  4.16705068, 25.61827115],\n",
       "            [ 9.26962454,  4.16879449, 25.61759733],\n",
       "            [ 9.26990611,  4.16862598, 25.61736868],\n",
       "            [ 9.27006621,  4.16791124, 25.61743374],\n",
       "            [ 9.26953822,  4.1682452 , 25.61513016],\n",
       "            [ 9.26944702,  4.17043296, 25.61557773],\n",
       "            [ 9.26924037,  4.16915769, 25.61550822],\n",
       "            [ 9.27050171,  4.16996287, 25.61452021],\n",
       "            [ 9.27136787,  4.16942594, 25.61602431],\n",
       "            [ 9.27315331,  4.16766209, 25.61561129],\n",
       "            [ 9.27270882,  4.16772289, 25.61682   ],\n",
       "            [ 9.27169487,  4.16811709, 25.61557248],\n",
       "            [ 9.27170746,  4.16871192, 25.61529001],\n",
       "            [ 9.27141491,  4.16829908, 25.61653786],\n",
       "            [ 9.27191554,  4.16754378, 25.61659161],\n",
       "            [ 9.27078642,  4.16806048, 25.61663783],\n",
       "            [ 9.27076156,  4.16871548, 25.61665498],\n",
       "            [ 9.27086487,  4.16905582, 25.61648209],\n",
       "            [ 9.27092935,  4.16838951, 25.61528586],\n",
       "            [ 9.27075184,  4.16756552, 25.61310673],\n",
       "            [ 9.27021169,  4.16735573, 25.61442303],\n",
       "            [ 9.27258299,  4.16680339, 25.6165578 ],\n",
       "            [ 9.27513163,  4.16549404, 25.61949553]], 'code_length')"
      ]
     },
     "execution_count": 28,
     "metadata": {},
     "output_type": "execute_result"
    }
   ],
   "source": [
    "ad[('PartType0', 'Coordinates')]"
   ]
  },
  {
   "cell_type": "code",
   "execution_count": 29,
   "metadata": {},
   "outputs": [
    {
     "data": {
      "text/plain": [
       "(26.804664962275805, 21.355854582675864, 17.50017682878184)"
      ]
     },
     "execution_count": 29,
     "metadata": {},
     "output_type": "execute_result"
    }
   ],
   "source": [
    "center"
   ]
  },
  {
   "cell_type": "code",
   "execution_count": 30,
   "metadata": {},
   "outputs": [
    {
     "data": {
      "text/plain": [
       "unyt_array([[ 9.27544392,  4.17176985, 25.62810579],\n",
       "            [ 9.27726372,  4.17132814, 25.6246809 ],\n",
       "            [ 9.27800689,  4.17181889, 25.62371001],\n",
       "            [ 9.27757007,  4.16821423, 25.62163964],\n",
       "            [ 9.27591861,  4.16589503, 25.62148829],\n",
       "            [ 9.2751741 ,  4.16619348, 25.62197173],\n",
       "            [ 9.27478479,  4.16779817, 25.62684475],\n",
       "            [ 9.2801755 ,  4.1717058 , 25.62172527],\n",
       "            [ 9.27095747,  4.1792408 , 25.63054679],\n",
       "            [ 9.27320522,  4.17415315, 25.62363113],\n",
       "            [ 9.27128352,  4.17401088, 25.62248289],\n",
       "            [ 9.27156958,  4.17407607, 25.62132807],\n",
       "            [ 9.27153681,  4.1743891 , 25.62339766],\n",
       "            [ 9.27220425,  4.17536207, 25.62199976],\n",
       "            [ 9.27379628,  4.17963995, 25.62146042],\n",
       "            [ 9.2689813 ,  4.17546048, 25.62356609],\n",
       "            [ 9.27009388,  4.17394013, 25.62142959],\n",
       "            [ 9.26699852,  4.1744663 , 25.62418501],\n",
       "            [ 9.26444605,  4.17794197, 25.62258621],\n",
       "            [ 9.25920785,  4.17281952, 25.63133636],\n",
       "            [ 9.26594869,  4.16500652, 25.62598906],\n",
       "            [ 9.26507423,  4.16637598, 25.62147313],\n",
       "            [ 9.26596257,  4.16806229, 25.62324704],\n",
       "            [ 9.26830162,  4.16937775, 25.62732213],\n",
       "            [ 9.26840427,  4.1715745 , 25.62636447],\n",
       "            [ 9.26632471,  4.17263588, 25.62390109],\n",
       "            [ 9.26887681,  4.17272634, 25.62146355],\n",
       "            [ 9.27013733,  4.1715164 , 25.62116759],\n",
       "            [ 9.26935049,  4.17120485, 25.62119421],\n",
       "            [ 9.26996088,  4.17037519, 25.62340941],\n",
       "            [ 9.26858317,  4.16930965, 25.62406939],\n",
       "            [ 9.26979384,  4.16987606, 25.62213234],\n",
       "            [ 9.26999648,  4.16955397, 25.62152505],\n",
       "            [ 9.26875123,  4.16991179, 25.62141954],\n",
       "            [ 9.26887743,  4.16982511, 25.62229017],\n",
       "            [ 9.26753829,  4.16927988, 25.6235387 ],\n",
       "            [ 9.27011763,  4.16768973, 25.62111175],\n",
       "            [ 9.26923881,  4.16879745, 25.62479081],\n",
       "            [ 9.26811299,  4.16582178, 25.62303878],\n",
       "            [ 9.26798931,  4.16607428, 25.62331426],\n",
       "            [ 9.26682144,  4.16701763, 25.62597049],\n",
       "            [ 9.27066759,  4.16797455, 25.62638617],\n",
       "            [ 9.2728477 ,  4.16763381, 25.62557967],\n",
       "            [ 9.27419964,  4.16700235, 25.62166355],\n",
       "            [ 9.27221856,  4.16634632, 25.62254206],\n",
       "            [ 9.27104065,  4.1658708 , 25.62348901],\n",
       "            [ 9.27144084,  4.16886202, 25.62336697],\n",
       "            [ 9.27110905,  4.16859894, 25.62143358],\n",
       "            [ 9.27051726,  4.16847771, 25.62181914],\n",
       "            [ 9.27052654,  4.16743771, 25.62121894],\n",
       "            [ 9.27130959,  4.16739581, 25.62191744],\n",
       "            [ 9.27138007,  4.16770836, 25.62129384],\n",
       "            [ 9.27196703,  4.16846921, 25.62126054],\n",
       "            [ 9.27182384,  4.16816348, 25.62255233],\n",
       "            [ 9.27316655,  4.16717171, 25.62191203],\n",
       "            [ 9.27375042,  4.16895658, 25.62118234],\n",
       "            [ 9.27360153,  4.1693345 , 25.62242533],\n",
       "            [ 9.27393601,  4.16978126, 25.62118854],\n",
       "            [ 9.27141657,  4.16950731, 25.62297379],\n",
       "            [ 9.27203382,  4.17010082, 25.62242343],\n",
       "            [ 9.27185274,  4.16921183, 25.62176899],\n",
       "            [ 9.2716808 ,  4.170957  , 25.62119598],\n",
       "            [ 9.27068616,  4.17088575, 25.62220004],\n",
       "            [ 9.27113932,  4.16993818, 25.62193947],\n",
       "            [ 9.27088164,  4.16984102, 25.6217938 ],\n",
       "            [ 9.27081659,  4.16982096, 25.62436193],\n",
       "            [ 9.27152023,  4.17099908, 25.62383837],\n",
       "            [ 9.2714503 ,  4.17032124, 25.62470491],\n",
       "            [ 9.27099649,  4.17119155, 25.62264802],\n",
       "            [ 9.27151841,  4.1718707 , 25.62183683],\n",
       "            [ 9.27279593,  4.17291085, 25.62651802],\n",
       "            [ 9.27400087,  4.16964225, 25.62954249],\n",
       "            [ 9.27302183,  4.16394899, 25.62233611],\n",
       "            [ 9.26780955,  4.16322663, 25.62257464],\n",
       "            [ 9.26577482,  4.16305156, 25.62540168],\n",
       "            [ 9.26679158,  4.18568048, 25.61987862],\n",
       "            [ 9.26978634,  4.1734989 , 25.61355803],\n",
       "            [ 9.27220381,  4.17655324, 25.61643452],\n",
       "            [ 9.27365032,  4.17548799, 25.6160537 ],\n",
       "            [ 9.27211133,  4.17482212, 25.62086792],\n",
       "            [ 9.26895614,  4.17383893, 25.62029518],\n",
       "            [ 9.26926675,  4.17404512, 25.61705316],\n",
       "            [ 9.26962491,  4.17531526, 25.62007996],\n",
       "            [ 9.26863414,  4.17556331, 25.61946099],\n",
       "            [ 9.26821272,  4.17565328, 25.61966555],\n",
       "            [ 9.27397891,  4.16289181, 25.61553494],\n",
       "            [ 9.27414324,  4.16136234, 25.61467438],\n",
       "            [ 9.27024134,  4.1641114 , 25.61736867],\n",
       "            [ 9.27332307,  4.16680564, 25.61979154],\n",
       "            [ 9.27358594,  4.16701143, 25.61749532],\n",
       "            [ 9.27141796,  4.16699209, 25.6199082 ],\n",
       "            [ 9.27173522,  4.16736385, 25.61895396],\n",
       "            [ 9.27201977,  4.16777922, 25.61948065],\n",
       "            [ 9.27109875,  4.16897853, 25.61997856],\n",
       "            [ 9.27085003,  4.16900197, 25.62003614],\n",
       "            [ 9.27025428,  4.16843376, 25.62046929],\n",
       "            [ 9.27029163,  4.16881016, 25.61973702],\n",
       "            [ 9.27088679,  4.16899019, 25.61978555],\n",
       "            [ 9.27111514,  4.16889802, 25.6195647 ],\n",
       "            [ 9.27086458,  4.16892108, 25.61939775],\n",
       "            [ 9.27103273,  4.16891884, 25.61893573],\n",
       "            [ 9.271131  ,  4.16897266, 25.61901599],\n",
       "            [ 9.27066815,  4.16892906, 25.61900137],\n",
       "            [ 9.2703392 ,  4.16828286, 25.61884485],\n",
       "            [ 9.27216021,  4.16892102, 25.61778846],\n",
       "            [ 9.27260369,  4.1683525 , 25.61806101],\n",
       "            [ 9.27387558,  4.16801684, 25.61911965],\n",
       "            [ 9.27252046,  4.16834612, 25.61913129],\n",
       "            [ 9.27235346,  4.16969449, 25.62013787],\n",
       "            [ 9.27251017,  4.16922264, 25.6201175 ],\n",
       "            [ 9.27250953,  4.16921237, 25.61964149],\n",
       "            [ 9.27252961,  4.16966706, 25.61962015],\n",
       "            [ 9.27255328,  4.17028654, 25.61894051],\n",
       "            [ 9.27235671,  4.17094724, 25.6202271 ],\n",
       "            [ 9.27394839,  4.16957925, 25.61804664],\n",
       "            [ 9.27176437,  4.17100554, 25.61791647],\n",
       "            [ 9.27146107,  4.17092478, 25.6185187 ],\n",
       "            [ 9.27035866,  4.17031819, 25.61815519],\n",
       "            [ 9.27065941,  4.1692137 , 25.61871712],\n",
       "            [ 9.27043727,  4.17038813, 25.61747584],\n",
       "            [ 9.27054275,  4.17116278, 25.61764463],\n",
       "            [ 9.27030068,  4.17218568, 25.61857553],\n",
       "            [ 9.27028169,  4.17202737, 25.61809274],\n",
       "            [ 9.27184903,  4.17167402, 25.62063498],\n",
       "            [ 9.27211401,  4.17146801, 25.62054562],\n",
       "            [ 9.27099117,  4.17284337, 25.62000307],\n",
       "            [ 9.27031537,  4.17059734, 25.62058918],\n",
       "            [ 9.27042903,  4.17039108, 25.62024157],\n",
       "            [ 9.27198328,  4.17087341, 25.62082138],\n",
       "            [ 9.27187897,  4.17029843, 25.620546  ],\n",
       "            [ 9.27159601,  4.17013406, 25.61907811],\n",
       "            [ 9.27082693,  4.17035891, 25.61949184],\n",
       "            [ 9.27074606,  4.1690977 , 25.61964951],\n",
       "            [ 9.27084567,  4.16925547, 25.61890627],\n",
       "            [ 9.27136184,  4.16929401, 25.61939704],\n",
       "            [ 9.27205371,  4.16958273, 25.61904996],\n",
       "            [ 9.27143162,  4.16962026, 25.61980606],\n",
       "            [ 9.2719887 ,  4.17001176, 25.61986964],\n",
       "            [ 9.27149821,  4.1693608 , 25.61962004],\n",
       "            [ 9.27146294,  4.16934419, 25.61944304],\n",
       "            [ 9.27140645,  4.16919109, 25.62027916],\n",
       "            [ 9.2715942 ,  4.16933622, 25.61994134],\n",
       "            [ 9.27166359,  4.16982445, 25.62021233],\n",
       "            [ 9.27070778,  4.16958684, 25.62073619],\n",
       "            [ 9.27115019,  4.1697432 , 25.62034511],\n",
       "            [ 9.27078736,  4.16969164, 25.62036251],\n",
       "            [ 9.2710214 ,  4.16940186, 25.61993337],\n",
       "            [ 9.27087835,  4.16940679, 25.62011443],\n",
       "            [ 9.27030055,  4.16934071, 25.62020822],\n",
       "            [ 9.27041097,  4.16930297, 25.6200832 ],\n",
       "            [ 9.27009918,  4.16920676, 25.61962135],\n",
       "            [ 9.26914426,  4.16995322, 25.6193725 ],\n",
       "            [ 9.26831179,  4.17048693, 25.6195357 ],\n",
       "            [ 9.26870016,  4.17085113, 25.62066738],\n",
       "            [ 9.26986269,  4.17029579, 25.62042093],\n",
       "            [ 9.26907066,  4.17134693, 25.62002038],\n",
       "            [ 9.26873161,  4.1716524 , 25.6199825 ],\n",
       "            [ 9.26827908,  4.17197404, 25.62035227],\n",
       "            [ 9.26957279,  4.16964907, 25.61777806],\n",
       "            [ 9.26991606,  4.16917116, 25.61776759],\n",
       "            [ 9.26991748,  4.16997008, 25.61882237],\n",
       "            [ 9.26731877,  4.17268429, 25.61804927],\n",
       "            [ 9.26687133,  4.17256864, 25.62021249],\n",
       "            [ 9.26986965,  4.16906123, 25.62069885],\n",
       "            [ 9.26947623,  4.16877815, 25.6209021 ],\n",
       "            [ 9.26956727,  4.16863597, 25.61904269],\n",
       "            [ 9.26813063,  4.16879485, 25.61546457],\n",
       "            [ 9.27120222,  4.17018948, 25.61493357],\n",
       "            [ 9.27478846,  4.16970829, 25.61635715],\n",
       "            [ 9.27882093,  4.16729218, 25.61877463],\n",
       "            [ 9.27868349,  4.16967799, 25.62003862],\n",
       "            [ 9.27793316,  4.17110304, 25.62082528],\n",
       "            [ 9.2757008 ,  4.17229446, 25.61896522],\n",
       "            [ 9.28562927,  4.17476041, 25.61497338],\n",
       "            [ 9.27455304,  4.17523554, 25.61902401],\n",
       "            [ 9.27763291,  4.17943219, 25.61220272]], 'code_length')"
      ]
     },
     "execution_count": 30,
     "metadata": {},
     "output_type": "execute_result"
    }
   ],
   "source": [
    "ad[('PartType4', 'Coordinates')]"
   ]
  },
  {
   "cell_type": "code",
   "execution_count": 34,
   "metadata": {},
   "outputs": [
    {
     "data": {
      "text/plain": [
       "(26.804664962275805, 21.355854582675864, 17.50017682878184)"
      ]
     },
     "execution_count": 34,
     "metadata": {},
     "output_type": "execute_result"
    }
   ],
   "source": [
    "center"
   ]
  },
  {
   "cell_type": "code",
   "execution_count": null,
   "metadata": {},
   "outputs": [],
   "source": []
  }
 ],
 "metadata": {
  "kernelspec": {
   "display_name": "Python 3",
   "language": "python",
   "name": "python3"
  },
  "language_info": {
   "codemirror_mode": {
    "name": "ipython",
    "version": 3
   },
   "file_extension": ".py",
   "mimetype": "text/x-python",
   "name": "python",
   "nbconvert_exporter": "python",
   "pygments_lexer": "ipython3",
   "version": "3.7.4"
  }
 },
 "nbformat": 4,
 "nbformat_minor": 4
}
